{
 "cells": [
  {
   "cell_type": "markdown",
   "id": "ee4e462c",
   "metadata": {},
   "source": [
    "##  `03_bucles` | Estructuras repetitivas: `for` y `while`. |"
   ]
  },
  {
   "cell_type": "markdown",
   "id": "78bb2c41",
   "metadata": {},
   "source": [
    "### Implementá una función llamada evaluar_polinomio(coeficientes, x) que reciba:\n",
    "#### 1- Una lista de números coeficientes, donde cada elemento representa el coeficiente de un polinomio, empezando desde el término independiente.\n",
    "#### 2- Un número x, que es el valor en el cual se desea evaluar el polinomio."
   ]
  },
  {
   "cell_type": "code",
   "execution_count": 11,
   "id": "01d10f7f",
   "metadata": {},
   "outputs": [
    {
     "data": {
      "text/plain": [
       "49"
      ]
     },
     "execution_count": 11,
     "metadata": {},
     "output_type": "execute_result"
    }
   ],
   "source": [
    "def poli(x:int, coeficientes: list[int]) -> int:\n",
    "    s = 0\n",
    "    pot = 1 \n",
    "    for coef in coeficientes:\n",
    "        s = s + (coef * pot)\n",
    "        pot = pot * x\n",
    "    return s\n",
    "poli(5, [-6,-4,3])"
   ]
  },
  {
   "cell_type": "markdown",
   "id": "7b021883",
   "metadata": {},
   "source": [
    "### Implementá una función llamada aproximar_e(n) que reciba como parámetro un número entero n y devuelva una aproximación del número e (constante de Euler) calculando la suma de la serie:\n",
    "\n",
    "#### 1- No podés usar la función math.factorial() (el objetivo es practicar bucles).\n",
    "#### 2- Debés implementar tu propio cálculo del factorial dentro de la función o en una función auxiliar.\n",
    "#### 3- Tu solución debe ser eficiente en memoria: evitá recalcular factoriales desde cero en cada iteración."
   ]
  },
  {
   "cell_type": "code",
   "execution_count": 16,
   "id": "a537c2bb",
   "metadata": {},
   "outputs": [
    {
     "data": {
      "text/plain": [
       "2.7166666666666663"
      ]
     },
     "execution_count": 16,
     "metadata": {},
     "output_type": "execute_result"
    }
   ],
   "source": [
    "def arproximar_e(n: int) -> float:\n",
    "    e = 0\n",
    "    factorial = 1\n",
    "    for k in range(n+1):\n",
    "        e = e + 1/factorial\n",
    "        factorial = factorial * (k + 1)\n",
    "    return e\n",
    "arproximar_e(5) "
   ]
  },
  {
   "cell_type": "markdown",
   "id": "00ad22a6",
   "metadata": {},
   "source": [
    "### Escribí una función llamada analizar_calificaciones que reciba una lista de números (las calificaciones de un grupo de estudiantes, entre 0 y 10) y devuelva un diccionario con la siguiente información:\n",
    "\n",
    "- El promedio de las calificaciones.\n",
    "- La nota más alta.\n",
    "- La nota más baja.\n",
    "- La cantidad de aprobados (nota mayor o igual a 6).\n",
    "- La cantidad de desaprobados (nota menor que 6).\n",
    "\n",
    "#### Restricciones y condiciones\n",
    "\n",
    "- No podés usar funciones predefinidas como sum(), max() o min().\n",
    "- Tenés que calcular todo usando un bucle for.\n",
    "- La función debe ser general, es decir, debe funcionar con cualquier lista numérica.\n",
    "- Los cálculos deben ser eficientes: hacé todo en un solo bucle, sin recorrer la lista más de una vez."
   ]
  },
  {
   "cell_type": "code",
   "execution_count": 54,
   "id": "7657ab06",
   "metadata": {},
   "outputs": [
    {
     "data": {
      "text/plain": [
       "(10, 54.29999999999999, 5.429999999999999, 9.7, 1.5)"
      ]
     },
     "execution_count": 54,
     "metadata": {},
     "output_type": "execute_result"
    }
   ],
   "source": [
    "def analizar_calificaciones(calificaiones: list[float]) -> float:\n",
    "    contar = 0\n",
    "    sumar = 0\n",
    "    maximo = calificaiones[0]\n",
    "    minimo = calificaiones[0]\n",
    "    for i in calificaiones:\n",
    "        contar = contar + 1\n",
    "        sumar = sumar + i \n",
    "        prom = sumar / contar\n",
    "        if i > maximo:\n",
    "            maximo = i\n",
    "        if i < minimo:\n",
    "            minimo = i\n",
    "    return contar, sumar, prom, maximo, minimo\n",
    "analizar_calificaciones([2.5,5,8,8.9,5,9.7,3,7.4,1.5,3.3])"
   ]
  }
 ],
 "metadata": {
  "kernelspec": {
   "display_name": "base",
   "language": "python",
   "name": "python3"
  },
  "language_info": {
   "codemirror_mode": {
    "name": "ipython",
    "version": 3
   },
   "file_extension": ".py",
   "mimetype": "text/x-python",
   "name": "python",
   "nbconvert_exporter": "python",
   "pygments_lexer": "ipython3",
   "version": "3.13.5"
  }
 },
 "nbformat": 4,
 "nbformat_minor": 5
}
