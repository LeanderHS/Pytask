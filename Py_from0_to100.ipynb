{
 "cells": [
  {
   "cell_type": "markdown",
   "id": "78bb2c41",
   "metadata": {},
   "source": [
    "## Implementá una función llamada evaluar_polinomio(coeficientes, x) que reciba:\n",
    "### 1- Una lista de números coeficientes, donde cada elemento representa el coeficiente de un polinomio, empezando desde el término independiente.\n",
    "### 2- Un número x, que es el valor en el cual se desea evaluar el polinomio."
   ]
  },
  {
   "cell_type": "code",
   "execution_count": 11,
   "id": "01d10f7f",
   "metadata": {},
   "outputs": [
    {
     "data": {
      "text/plain": [
       "49"
      ]
     },
     "execution_count": 11,
     "metadata": {},
     "output_type": "execute_result"
    }
   ],
   "source": [
    "def poli(x:int, coeficientes: list[int]) -> int:\n",
    "    s = 0\n",
    "    pot = 1 \n",
    "    for coef in coeficientes:\n",
    "        s = s + (coef * pot)\n",
    "        pot = pot * x\n",
    "    return s\n",
    "poli(5, [-6,-4,3])"
   ]
  },
  {
   "cell_type": "markdown",
   "id": "7b021883",
   "metadata": {},
   "source": [
    "## Implementá una función llamada aproximar_e(n) que reciba como parámetro un número entero n y devuelva una aproximación del número e (constante de Euler) calculando la suma de la serie:\n",
    "\n",
    "### 1- No podés usar la función math.factorial() (el objetivo es practicar bucles).\n",
    "### 2- Debés implementar tu propio cálculo del factorial dentro de la función o en una función auxiliar.\n",
    "### 3- Tu solución debe ser eficiente en memoria: evitá recalcular factoriales desde cero en cada iteración."
   ]
  },
  {
   "cell_type": "code",
   "execution_count": null,
   "id": "a537c2bb",
   "metadata": {},
   "outputs": [],
   "source": []
  }
 ],
 "metadata": {
  "kernelspec": {
   "display_name": "base",
   "language": "python",
   "name": "python3"
  },
  "language_info": {
   "codemirror_mode": {
    "name": "ipython",
    "version": 3
   },
   "file_extension": ".py",
   "mimetype": "text/x-python",
   "name": "python",
   "nbconvert_exporter": "python",
   "pygments_lexer": "ipython3",
   "version": "3.13.5"
  }
 },
 "nbformat": 4,
 "nbformat_minor": 5
}
